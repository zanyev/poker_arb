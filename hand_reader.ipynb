{
 "cells": [
  {
   "cell_type": "code",
   "execution_count": 1,
   "metadata": {},
   "outputs": [],
   "source": [
    "import re\n",
    "import os\n",
    "import pandas as pd"
   ]
  },
  {
   "cell_type": "code",
   "execution_count": 2,
   "metadata": {},
   "outputs": [],
   "source": [
    "def custo_por_mao(big_blind,small_blind,ante,numero_de_jogadores):\n",
    "    return (big_blind + small_blind + ante*numero_de_jogadores)/numero_de_jogadores\n",
    "\n",
    "def convert_k_to_numeric(df, column_name):\n",
    "    \"\"\"\n",
    "    Converts values in a specified column from 'K' notation to numeric.\n",
    "\n",
    "    Parameters:\n",
    "    df (pd.DataFrame): The DataFrame containing the column to be converted.\n",
    "    column_name (str): The name of the column to convert.\n",
    "\n",
    "    Returns:\n",
    "    pd.DataFrame: The DataFrame with the specified column converted.\n",
    "    \"\"\"\n",
    "    def convert(value):\n",
    "        if isinstance(value, str) and 'K' in value:\n",
    "            return int(float(value.replace('K', '')) * 1000)\n",
    "        return value\n",
    "\n",
    "    df[column_name] = pd.to_numeric(df[column_name].apply(convert))\n",
    "    return df"
   ]
  },
  {
   "cell_type": "code",
   "execution_count": 3,
   "metadata": {},
   "outputs": [],
   "source": [
    "blind_structure = pd.read_csv('./1_dolar_45_players_sit_go.csv')\n",
    "blind_structure[['small_blind','big_blind']] = blind_structure['Blinds'].str.split('/',expand=True)\n",
    "blind_structure.set_index('Level',inplace=True)\n",
    "\n",
    "blind_structure = convert_k_to_numeric(blind_structure,'Ante')\n",
    "blind_structure = convert_k_to_numeric(blind_structure,'small_blind')\n",
    "blind_structure = convert_k_to_numeric(blind_structure,'big_blind')\n",
    "blind_structure['Minutes'] = pd.to_numeric(blind_structure['Minutes'])"
   ]
  },
  {
   "cell_type": "markdown",
   "metadata": {},
   "source": [
    "#### A cada volta completa na mesa de tamanho 9 numero de jogadores no torneio o custo médio por mão é dado por:\n",
    "\n",
    "#### (N * Ante + bigblind + smalllind)/N ou Ante + (bigblind + smalllind)/N"
   ]
  },
  {
   "cell_type": "code",
   "execution_count": 4,
   "metadata": {},
   "outputs": [],
   "source": [
    "blind_structure['custo_medio_por_mao'] = blind_structure['Ante'] + (blind_structure['small_blind'] + blind_structure['big_blind'])/9\n",
    "blind_structure['Tempo Acumulado'] = blind_structure['Minutes'].cumsum()"
   ]
  },
  {
   "cell_type": "code",
   "execution_count": 5,
   "metadata": {},
   "outputs": [],
   "source": [
    "df_transformed = pd.DataFrame({\n",
    "    'Level': blind_structure.index.repeat(10).values,\n",
    "    'Value': range(1, blind_structure['Tempo Acumulado'].max() + 1)\n",
    "}).set_index(\"Level\")"
   ]
  },
  {
   "cell_type": "code",
   "execution_count": 6,
   "metadata": {},
   "outputs": [],
   "source": [
    "blind_structure_extendido = pd.merge(df_transformed,blind_structure,left_index=True,right_index=True,how='left')"
   ]
  },
  {
   "cell_type": "code",
   "execution_count": 7,
   "metadata": {},
   "outputs": [],
   "source": [
    "blind_structure_extendido = blind_structure_extendido.drop(\"Tempo Acumulado\",axis=1)"
   ]
  },
  {
   "cell_type": "code",
   "execution_count": 291,
   "metadata": {},
   "outputs": [],
   "source": [
    "blind_structure_extendido['maos_jogadas_por_minuto'] = 60/50"
   ]
  },
  {
   "cell_type": "code",
   "execution_count": 292,
   "metadata": {},
   "outputs": [],
   "source": [
    "blind_structure_extendido['custo_por_minuto'] = blind_structure_extendido['maos_jogadas_por_minuto'] * blind_structure_extendido['custo_medio_por_mao']"
   ]
  },
  {
   "cell_type": "code",
   "execution_count": 293,
   "metadata": {},
   "outputs": [],
   "source": [
    "blind_structure_extendido['custo_acumulado'] = blind_structure_extendido.custo_por_minuto.cumsum()"
   ]
  },
  {
   "cell_type": "code",
   "execution_count": 447,
   "metadata": {},
   "outputs": [],
   "source": [
    "custo_final = blind_structure_extendido[blind_structure_extendido['Value'] == 130].iloc[0]['custo_acumulado']\n",
    "custo_inicial = blind_structure_extendido[blind_structure_extendido['Value'] >= 104].iloc[0]['custo_acumulado']"
   ]
  },
  {
   "cell_type": "code",
   "execution_count": 448,
   "metadata": {},
   "outputs": [],
   "source": [
    "quantidade_necessaria_de_fichas = custo_final - custo_inicial"
   ]
  },
  {
   "cell_type": "code",
   "execution_count": 451,
   "metadata": {},
   "outputs": [
    {
     "data": {
      "text/plain": [
       "1240.0"
      ]
     },
     "execution_count": 451,
     "metadata": {},
     "output_type": "execute_result"
    }
   ],
   "source": [
    "quantidade_necessaria_de_fichas - 6100"
   ]
  },
  {
   "cell_type": "code",
   "execution_count": null,
   "metadata": {},
   "outputs": [],
   "source": []
  }
 ],
 "metadata": {
  "kernelspec": {
   "display_name": "Python 3",
   "language": "python",
   "name": "python3"
  },
  "language_info": {
   "codemirror_mode": {
    "name": "ipython",
    "version": 3
   },
   "file_extension": ".py",
   "mimetype": "text/x-python",
   "name": "python",
   "nbconvert_exporter": "python",
   "pygments_lexer": "ipython3",
   "version": "3.10.11"
  }
 },
 "nbformat": 4,
 "nbformat_minor": 2
}
