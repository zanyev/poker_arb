{
 "cells": [
  {
   "cell_type": "code",
   "execution_count": 2,
   "metadata": {},
   "outputs": [],
   "source": [
    "import re\n",
    "import os\n",
    "import pandas as pd"
   ]
  },
  {
   "cell_type": "code",
   "execution_count": 3,
   "metadata": {},
   "outputs": [],
   "source": [
    "def custo_por_mao(big_blind,small_blind,ante,numero_de_jogadores):\n",
    "    return (big_blind + small_blind + ante*numero_de_jogadores)/numero_de_jogadores\n",
    "\n",
    "def convert_k_to_numeric(df, column_name):\n",
    "    \"\"\"\n",
    "    Converts values in a specified column from 'K' notation to numeric.\n",
    "\n",
    "    Parameters:\n",
    "    df (pd.DataFrame): The DataFrame containing the column to be converted.\n",
    "    column_name (str): The name of the column to convert.\n",
    "\n",
    "    Returns:\n",
    "    pd.DataFrame: The DataFrame with the specified column converted.\n",
    "    \"\"\"\n",
    "    def convert(value):\n",
    "        if isinstance(value, str) and 'K' in value:\n",
    "            return int(float(value.replace('K', '')) * 1000)\n",
    "        return value\n",
    "\n",
    "    df[column_name] = pd.to_numeric(df[column_name].apply(convert))\n",
    "    return df"
   ]
  },
  {
   "cell_type": "code",
   "execution_count": 4,
   "metadata": {},
   "outputs": [],
   "source": [
    "blind_structure = pd.read_csv('./1_dolar_45_players_sit_go.csv')\n",
    "blind_structure[['small_blind','big_blind']] = blind_structure['Blinds'].str.split('/',expand=True)\n",
    "blind_structure.set_index('Level',inplace=True)\n",
    "\n",
    "blind_structure = convert_k_to_numeric(blind_structure,'Ante')\n",
    "blind_structure = convert_k_to_numeric(blind_structure,'small_blind')\n",
    "blind_structure = convert_k_to_numeric(blind_structure,'big_blind')\n",
    "blind_structure['Minutes'] = pd.to_numeric(blind_structure['Minutes'])"
   ]
  },
  {
   "cell_type": "markdown",
   "metadata": {},
   "source": [
    "#### A cada volta completa na mesa de tamanho 9 numero de jogadores no torneio o custo médio por mão é dado por:\n",
    "\n",
    "#### (N * Ante + bigblind + smalllind)/N ou Ante + (bigblind + smalllind)/N"
   ]
  },
  {
   "cell_type": "code",
   "execution_count": 75,
   "metadata": {},
   "outputs": [],
   "source": [
    "estatistica_de_tempo_por_mao = pd.read_csv('./tempo_por_mao_n_jogadores.csv',index_col=0)"
   ]
  },
  {
   "cell_type": "code",
   "execution_count": 76,
   "metadata": {},
   "outputs": [
    {
     "data": {
      "text/html": [
       "<div>\n",
       "<style scoped>\n",
       "    .dataframe tbody tr th:only-of-type {\n",
       "        vertical-align: middle;\n",
       "    }\n",
       "\n",
       "    .dataframe tbody tr th {\n",
       "        vertical-align: top;\n",
       "    }\n",
       "\n",
       "    .dataframe thead th {\n",
       "        text-align: right;\n",
       "    }\n",
       "</style>\n",
       "<table border=\"1\" class=\"dataframe\">\n",
       "  <thead>\n",
       "    <tr style=\"text-align: right;\">\n",
       "      <th></th>\n",
       "      <th>count</th>\n",
       "      <th>mean</th>\n",
       "      <th>std</th>\n",
       "      <th>min</th>\n",
       "      <th>25%</th>\n",
       "      <th>50%</th>\n",
       "      <th>75%</th>\n",
       "      <th>max</th>\n",
       "    </tr>\n",
       "    <tr>\n",
       "      <th>numero_de_players</th>\n",
       "      <th></th>\n",
       "      <th></th>\n",
       "      <th></th>\n",
       "      <th></th>\n",
       "      <th></th>\n",
       "      <th></th>\n",
       "      <th></th>\n",
       "      <th></th>\n",
       "    </tr>\n",
       "  </thead>\n",
       "  <tbody>\n",
       "    <tr>\n",
       "      <th>2</th>\n",
       "      <td>352.0</td>\n",
       "      <td>14.803977</td>\n",
       "      <td>10.388943</td>\n",
       "      <td>1.0</td>\n",
       "      <td>7.00</td>\n",
       "      <td>12.0</td>\n",
       "      <td>20.0</td>\n",
       "      <td>68.0</td>\n",
       "    </tr>\n",
       "    <tr>\n",
       "      <th>3</th>\n",
       "      <td>296.0</td>\n",
       "      <td>21.043919</td>\n",
       "      <td>14.585624</td>\n",
       "      <td>4.0</td>\n",
       "      <td>10.00</td>\n",
       "      <td>18.0</td>\n",
       "      <td>27.0</td>\n",
       "      <td>100.0</td>\n",
       "    </tr>\n",
       "    <tr>\n",
       "      <th>4</th>\n",
       "      <td>125.0</td>\n",
       "      <td>23.984000</td>\n",
       "      <td>13.906360</td>\n",
       "      <td>7.0</td>\n",
       "      <td>13.00</td>\n",
       "      <td>21.0</td>\n",
       "      <td>30.0</td>\n",
       "      <td>68.0</td>\n",
       "    </tr>\n",
       "    <tr>\n",
       "      <th>5</th>\n",
       "      <td>234.0</td>\n",
       "      <td>30.529915</td>\n",
       "      <td>16.929834</td>\n",
       "      <td>7.0</td>\n",
       "      <td>18.00</td>\n",
       "      <td>26.0</td>\n",
       "      <td>39.0</td>\n",
       "      <td>98.0</td>\n",
       "    </tr>\n",
       "    <tr>\n",
       "      <th>6</th>\n",
       "      <td>534.0</td>\n",
       "      <td>38.189139</td>\n",
       "      <td>19.685896</td>\n",
       "      <td>8.0</td>\n",
       "      <td>23.25</td>\n",
       "      <td>34.0</td>\n",
       "      <td>49.0</td>\n",
       "      <td>105.0</td>\n",
       "    </tr>\n",
       "    <tr>\n",
       "      <th>7</th>\n",
       "      <td>620.0</td>\n",
       "      <td>44.612903</td>\n",
       "      <td>19.835148</td>\n",
       "      <td>8.0</td>\n",
       "      <td>29.75</td>\n",
       "      <td>41.0</td>\n",
       "      <td>56.0</td>\n",
       "      <td>106.0</td>\n",
       "    </tr>\n",
       "    <tr>\n",
       "      <th>8</th>\n",
       "      <td>1451.0</td>\n",
       "      <td>50.235010</td>\n",
       "      <td>21.517224</td>\n",
       "      <td>11.0</td>\n",
       "      <td>33.00</td>\n",
       "      <td>47.0</td>\n",
       "      <td>64.5</td>\n",
       "      <td>108.0</td>\n",
       "    </tr>\n",
       "    <tr>\n",
       "      <th>9</th>\n",
       "      <td>557.0</td>\n",
       "      <td>55.454219</td>\n",
       "      <td>22.154708</td>\n",
       "      <td>13.0</td>\n",
       "      <td>38.00</td>\n",
       "      <td>53.0</td>\n",
       "      <td>71.0</td>\n",
       "      <td>109.0</td>\n",
       "    </tr>\n",
       "  </tbody>\n",
       "</table>\n",
       "</div>"
      ],
      "text/plain": [
       "                    count       mean        std   min    25%   50%   75%  \\\n",
       "numero_de_players                                                          \n",
       "2                   352.0  14.803977  10.388943   1.0   7.00  12.0  20.0   \n",
       "3                   296.0  21.043919  14.585624   4.0  10.00  18.0  27.0   \n",
       "4                   125.0  23.984000  13.906360   7.0  13.00  21.0  30.0   \n",
       "5                   234.0  30.529915  16.929834   7.0  18.00  26.0  39.0   \n",
       "6                   534.0  38.189139  19.685896   8.0  23.25  34.0  49.0   \n",
       "7                   620.0  44.612903  19.835148   8.0  29.75  41.0  56.0   \n",
       "8                  1451.0  50.235010  21.517224  11.0  33.00  47.0  64.5   \n",
       "9                   557.0  55.454219  22.154708  13.0  38.00  53.0  71.0   \n",
       "\n",
       "                     max  \n",
       "numero_de_players         \n",
       "2                   68.0  \n",
       "3                  100.0  \n",
       "4                   68.0  \n",
       "5                   98.0  \n",
       "6                  105.0  \n",
       "7                  106.0  \n",
       "8                  108.0  \n",
       "9                  109.0  "
      ]
     },
     "execution_count": 76,
     "metadata": {},
     "output_type": "execute_result"
    }
   ],
   "source": [
    "estatistica_de_tempo_por_mao"
   ]
  },
  {
   "cell_type": "code",
   "execution_count": 5,
   "metadata": {},
   "outputs": [],
   "source": [
    "blind_structure['custo_medio_por_mao'] = blind_structure['Ante'] + (blind_structure['small_blind'] + blind_structure['big_blind'])/9\n",
    "blind_structure['Tempo Acumulado'] = blind_structure['Minutes'].cumsum()"
   ]
  },
  {
   "cell_type": "code",
   "execution_count": 6,
   "metadata": {},
   "outputs": [],
   "source": [
    "df_transformed = pd.DataFrame({\n",
    "    'Level': blind_structure.index.repeat(10).values,\n",
    "    'Value': range(1, blind_structure['Tempo Acumulado'].max() + 1)\n",
    "}).set_index(\"Level\")\n"
   ]
  },
  {
   "cell_type": "code",
   "execution_count": 87,
   "metadata": {},
   "outputs": [],
   "source": [
    "blind_structure_extendido = pd.merge(df_transformed,blind_structure,left_index=True,right_index=True,how='left')\n",
    "blind_structure_extendido = blind_structure_extendido.drop(\"Tempo Acumulado\",axis=1)\n",
    "blind_structure_extendido['maos_jogadas_por_minuto'] = 60/45\n",
    "blind_structure_extendido['custo_por_minuto'] = blind_structure_extendido['maos_jogadas_por_minuto'] * blind_structure_extendido['custo_medio_por_mao']\n",
    "blind_structure_extendido['custo_acumulado'] = blind_structure_extendido.custo_por_minuto.cumsum()"
   ]
  },
  {
   "cell_type": "code",
   "execution_count": 112,
   "metadata": {},
   "outputs": [],
   "source": [
    "custo_final = blind_structure_extendido[blind_structure_extendido['Value'] == 95].iloc[0]['custo_acumulado']\n",
    "custo_inicial = blind_structure_extendido[blind_structure_extendido['Value'] >= 1].iloc[0]['custo_acumulado']"
   ]
  },
  {
   "cell_type": "code",
   "execution_count": 113,
   "metadata": {},
   "outputs": [],
   "source": [
    "quantidade_necessaria_de_fichas = custo_final - custo_inicial"
   ]
  },
  {
   "cell_type": "code",
   "execution_count": 114,
   "metadata": {},
   "outputs": [
    {
     "data": {
      "text/plain": [
       "0.08573497942386835"
      ]
     },
     "execution_count": 114,
     "metadata": {},
     "output_type": "execute_result"
    }
   ],
   "source": [
    "quantidade_necessaria_de_fichas/(1500*45)"
   ]
  },
  {
   "cell_type": "code",
   "execution_count": null,
   "metadata": {},
   "outputs": [],
   "source": []
  }
 ],
 "metadata": {
  "kernelspec": {
   "display_name": "Python 3",
   "language": "python",
   "name": "python3"
  },
  "language_info": {
   "codemirror_mode": {
    "name": "ipython",
    "version": 3
   },
   "file_extension": ".py",
   "mimetype": "text/x-python",
   "name": "python",
   "nbconvert_exporter": "python",
   "pygments_lexer": "ipython3",
   "version": "3.10.11"
  }
 },
 "nbformat": 4,
 "nbformat_minor": 2
}
